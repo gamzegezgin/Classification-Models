{
 "cells": [
  {
   "cell_type": "markdown",
   "id": "03d029d6-2463-4b6a-99f8-d4d2d2d0006e",
   "metadata": {},
   "source": [
    "### **Amaç:** En küçük hata ile tahmin yapabilecek ağırlıklara erişmek."
   ]
  },
  {
   "cell_type": "code",
   "execution_count": 12,
   "id": "0bd35efc-012e-46d3-b4b0-088444dddaa0",
   "metadata": {},
   "outputs": [],
   "source": [
    "import numpy as np\n",
    "import pandas as pd\n",
    "import statsmodels.api as sm\n",
    "import seaborn as sns\n",
    "import matplotlib.pyplot as plt\n",
    "from sklearn.preprocessing import scale, StandardScaler\n",
    "from sklearn.model_selection import train_test_split, GridSearchCV, cross_val_score\n",
    "from sklearn.metrics import confusion_matrix, accuracy_score, mean_squared_error, r2_score, roc_auc_score, roc_curve, classification_report\n",
    "from sklearn.linear_model import LogisticRegression\n",
    "from sklearn.neighbors import KNeighborsClassifier\n",
    "from sklearn.svm import SVC\n",
    "from sklearn.neural_network import MLPClassifier\n",
    "from sklearn.tree import DecisionTreeClassifier\n",
    "from sklearn.ensemble import RandomForestClassifier\n",
    "from sklearn.ensemble import GradientBoostingClassifier\n",
    "\n",
    "\n",
    "import warnings\n",
    "warnings.filterwarnings('ignore', category=DeprecationWarning)\n",
    "warnings.filterwarnings('ignore', category=FutureWarning)\n",
    "\n",
    "df = pd.read_csv(\"../df_cleaned.csv\")\n",
    "\n",
    "\n",
    "y = df[\"BRCAstatesNew\"]\n",
    "X = df.drop([\"BRCAstatesNew\"], axis =1)\n",
    "\n",
    "\n",
    "X_train, X_test, y_train, y_test = train_test_split(X, y, test_size=0.3, random_state=42, stratify=y)"
   ]
  },
  {
   "cell_type": "code",
   "execution_count": 14,
   "id": "54182020-4af3-447b-9885-a2a631c230c4",
   "metadata": {},
   "outputs": [],
   "source": [
    "from sklearn.preprocessing import StandardScaler\n",
    "\n",
    "scaler = StandardScaler()\n",
    "X_train_scaled = scaler.fit_transform(X_train)\n",
    "X_test_scaled = scaler.transform(X_test)"
   ]
  },
  {
   "cell_type": "code",
   "execution_count": 16,
   "id": "aa7788cc-d951-414f-baf7-1dfecc323e23",
   "metadata": {},
   "outputs": [],
   "source": [
    "mlpc_model = MLPClassifier().fit(X_train_scaled, y_train)"
   ]
  },
  {
   "cell_type": "code",
   "execution_count": 18,
   "id": "2a43ee88-ce07-4fe5-9bbe-f4b46efb0429",
   "metadata": {},
   "outputs": [],
   "source": [
    "y_pred = mlpc_model.predict(X_test_scaled)"
   ]
  },
  {
   "cell_type": "code",
   "execution_count": 22,
   "id": "5ab4dc60-d4e9-40fa-ac1e-3475c94e43a6",
   "metadata": {},
   "outputs": [
    {
     "data": {
      "text/plain": [
       "1.0"
      ]
     },
     "execution_count": 22,
     "metadata": {},
     "output_type": "execute_result"
    }
   ],
   "source": [
    "accuracy_score(y_test, y_test)"
   ]
  },
  {
   "cell_type": "code",
   "execution_count": null,
   "id": "58ef6086-6ff6-4675-9a0e-df81a8ec0814",
   "metadata": {},
   "outputs": [],
   "source": [
    "# model tuning etme"
   ]
  },
  {
   "cell_type": "code",
   "execution_count": 35,
   "id": "42021902-32e2-4481-a2db-d1cb039ad947",
   "metadata": {},
   "outputs": [],
   "source": [
    "mlpc_params = {\"alpha\": [1,5,0.1,0.001,0.005],\n",
    "              \"hidden_layer_sizes\": [(10,10), (100,100,100), (3,5)]}"
   ]
  },
  {
   "cell_type": "code",
   "execution_count": 36,
   "id": "1fc1804b-583d-4125-a3ef-b360ea9ad239",
   "metadata": {},
   "outputs": [],
   "source": [
    "mlpc = MLPClassifier(solver = \"adam\", activation= \"logistic\")"
   ]
  },
  {
   "cell_type": "code",
   "execution_count": 37,
   "id": "bba6914a-e3bd-4a23-9513-b08eb84f0c84",
   "metadata": {},
   "outputs": [
    {
     "name": "stderr",
     "output_type": "stream",
     "text": [
      "C:\\Users\\acer\\anaconda3\\Lib\\site-packages\\sklearn\\model_selection\\_split.py:805: UserWarning: The least populated class in y has only 1 members, which is less than n_splits=5.\n",
      "  warnings.warn(\n"
     ]
    }
   ],
   "source": [
    "mlpc_cv_model = GridSearchCV(mlpc, mlpc_params, n_jobs = -1).fit(X_train_scaled, y_train)"
   ]
  },
  {
   "cell_type": "code",
   "execution_count": 38,
   "id": "12247ac2-86db-40a5-82aa-2ff81d3f9148",
   "metadata": {},
   "outputs": [
    {
     "data": {
      "text/plain": [
       "{'alpha': 0.001, 'hidden_layer_sizes': (100, 100, 100)}"
      ]
     },
     "execution_count": 38,
     "metadata": {},
     "output_type": "execute_result"
    }
   ],
   "source": [
    "mlpc_cv_model.best_params_"
   ]
  },
  {
   "cell_type": "code",
   "execution_count": 43,
   "id": "e7d78a79-f27c-472d-850c-9b80d79e30cf",
   "metadata": {},
   "outputs": [],
   "source": [
    "mlpc_tuned =  MLPClassifier(solver = \"adam\", activation= \"logistic\", alpha=0.001, hidden_layer_sizes=(100,100,100)).fit(X_train_scaled, y_train)"
   ]
  },
  {
   "cell_type": "code",
   "execution_count": 45,
   "id": "95247be4-12ee-40d9-90c0-ab3d417b70c7",
   "metadata": {},
   "outputs": [],
   "source": [
    "y_pred = mlpc_tuned.predict(X_test_scaled)"
   ]
  },
  {
   "cell_type": "code",
   "execution_count": 47,
   "id": "aa36a85a-98a3-4bbe-94e2-a506f91823c2",
   "metadata": {},
   "outputs": [
    {
     "data": {
      "text/plain": [
       "0.9969909729187563"
      ]
     },
     "execution_count": 47,
     "metadata": {},
     "output_type": "execute_result"
    }
   ],
   "source": [
    "accuracy_score(y_test, y_pred)"
   ]
  },
  {
   "cell_type": "code",
   "execution_count": 50,
   "id": "7f28b2bb-2fed-41ff-8724-b237b9089430",
   "metadata": {},
   "outputs": [
    {
     "name": "stderr",
     "output_type": "stream",
     "text": [
      "C:\\Users\\acer\\anaconda3\\Lib\\site-packages\\sklearn\\metrics\\_classification.py:1565: UndefinedMetricWarning: Precision is ill-defined and being set to 0.0 in labels with no predicted samples. Use `zero_division` parameter to control this behavior.\n",
      "  _warn_prf(average, modifier, f\"{metric.capitalize()} is\", len(result))\n",
      "C:\\Users\\acer\\anaconda3\\Lib\\site-packages\\sklearn\\metrics\\_classification.py:1565: UndefinedMetricWarning: Precision is ill-defined and being set to 0.0 in labels with no predicted samples. Use `zero_division` parameter to control this behavior.\n",
      "  _warn_prf(average, modifier, f\"{metric.capitalize()} is\", len(result))\n",
      "C:\\Users\\acer\\anaconda3\\Lib\\site-packages\\sklearn\\metrics\\_classification.py:1565: UndefinedMetricWarning: Precision is ill-defined and being set to 0.0 in labels with no predicted samples. Use `zero_division` parameter to control this behavior.\n",
      "  _warn_prf(average, modifier, f\"{metric.capitalize()} is\", len(result))\n"
     ]
    },
    {
     "name": "stdout",
     "output_type": "stream",
     "text": [
      "              precision    recall  f1-score   support\n",
      "\n",
      "           0       1.00      1.00      1.00       828\n",
      "           1       1.00      1.00      1.00        68\n",
      "           2       0.95      1.00      0.97        52\n",
      "           3       0.00      0.00      0.00         1\n",
      "           4       1.00      1.00      1.00        45\n",
      "           5       1.00      0.50      0.67         2\n",
      "           6       0.00      0.00      0.00         1\n",
      "\n",
      "    accuracy                           1.00       997\n",
      "   macro avg       0.71      0.64      0.66       997\n",
      "weighted avg       1.00      1.00      1.00       997\n",
      "\n"
     ]
    },
    {
     "data": {
      "image/png": "[encoded data removed]",
      "text/plain": [
       "<Figure size 800x600 with 2 Axes>"
      ]
     },
     "metadata": {},
     "output_type": "display_data"
    }
   ],
   "source": [
    "from sklearn.metrics import confusion_matrix\n",
    "import seaborn as sns\n",
    "import matplotlib.pyplot as plt\n",
    "\n",
    "y_pred = mlpc_tuned .predict(X_test_scaled)\n",
    "cm = confusion_matrix(y_test, y_pred)\n",
    "\n",
    "print(classification_report(y_test, y_pred))\n",
    "\n",
    "labels = sorted(y_test.unique()) \n",
    "\n",
    "plt.figure(figsize=(8,6))\n",
    "sns.heatmap(cm, annot=True, fmt='d', cmap='Blues', xticklabels=labels, yticklabels=labels)\n",
    "\n",
    "plt.xlabel('Predicted Label')\n",
    "plt.ylabel('True Label')\n",
    "plt.title('Confusion Matrix')\n",
    "plt.show()"
   ]
  },
  {
   "cell_type": "code",
   "execution_count": 54,
   "id": "29b29257-64bf-4407-89be-72c629e9c878",
   "metadata": {},
   "outputs": [
    {
     "data": {
      "text/plain": [
       "BRCAstatesNew\n",
       "0    2758\n",
       "1     227\n",
       "2     174\n",
       "4     150\n",
       "5       7\n",
       "6       4\n",
       "3       2\n",
       "Name: count, dtype: int64"
      ]
     },
     "execution_count": 54,
     "metadata": {},
     "output_type": "execute_result"
    }
   ],
   "source": [
    "df[\"BRCAstatesNew\"].value_counts()"
   ]
  },
  {
   "cell_type": "code",
   "execution_count": null,
   "id": "d9fc2e90-e34e-4f34-a082-f02fa35c461e",
   "metadata": {},
   "outputs": [],
   "source": []
  }
 ],
 "metadata": {
  "kernelspec": {
   "display_name": "Python [conda env:base] *",
   "language": "python",
   "name": "conda-base-py"
  },
  "language_info": {
   "codemirror_mode": {
    "name": "ipython",
    "version": 3
   },
   "file_extension": ".py",
   "mimetype": "text/x-python",
   "name": "python",
   "nbconvert_exporter": "python",
   "pygments_lexer": "ipython3",
   "version": "3.12.4"
  }
 },
 "nbformat": 4,
 "nbformat_minor": 5
}
