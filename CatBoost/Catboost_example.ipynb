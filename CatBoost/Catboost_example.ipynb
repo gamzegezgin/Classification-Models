{
 "cells": [
  {
   "cell_type": "code",
   "execution_count": 2,
   "id": "01e4652d-f625-45da-b873-4cd64a956ed4",
   "metadata": {},
   "outputs": [],
   "source": [
    "import numpy as np\n",
    "import pandas as pd\n",
    "import statsmodels.api as sm\n",
    "import seaborn as sns\n",
    "import matplotlib.pyplot as plt\n",
    "from sklearn.preprocessing import scale, StandardScaler\n",
    "from sklearn.model_selection import train_test_split, GridSearchCV, cross_val_score\n",
    "from sklearn.metrics import confusion_matrix, accuracy_score, mean_squared_error, r2_score, roc_auc_score, roc_curve, classification_report\n",
    "from sklearn.linear_model import LogisticRegression\n",
    "from sklearn.neighbors import KNeighborsClassifier\n",
    "from sklearn.svm import SVC\n",
    "from sklearn.neural_network import MLPClassifier\n",
    "from sklearn.tree import DecisionTreeClassifier\n",
    "from sklearn.ensemble import RandomForestClassifier\n",
    "from sklearn.ensemble import GradientBoostingClassifier\n",
    "\n",
    "\n",
    "import warnings\n",
    "warnings.filterwarnings('ignore', category=DeprecationWarning)\n",
    "warnings.filterwarnings('ignore', category=FutureWarning)\n",
    "\n",
    "df = pd.read_csv(\"../df_cleaned.csv\")\n",
    "\n",
    "\n",
    "y = df[\"BRCAstatesNew\"]\n",
    "X = df.drop([\"BRCAstatesNew\"], axis =1)\n",
    "\n",
    "\n",
    "X_train, X_test, y_train, y_test = train_test_split(X, y, test_size=0.3, random_state=42, stratify=y)\n"
   ]
  },
  {
   "cell_type": "code",
   "execution_count": 6,
   "id": "b335f19a-7d01-4766-bb11-f3ad9c860bf1",
   "metadata": {
    "collapsed": true,
    "jupyter": {
     "outputs_hidden": true
    }
   },
   "outputs": [
    {
     "name": "stdout",
     "output_type": "stream",
     "text": [
      "Requirement already satisfied: catboost in c:\\users\\acer\\anaconda3\\lib\\site-packages (1.2.7)\n",
      "Requirement already satisfied: graphviz in c:\\users\\acer\\anaconda3\\lib\\site-packages (from catboost) (0.20.3)\n",
      "Requirement already satisfied: matplotlib in c:\\users\\acer\\anaconda3\\lib\\site-packages (from catboost) (3.10.0)\n",
      "Requirement already satisfied: numpy<2.0,>=1.16.0 in c:\\users\\acer\\anaconda3\\lib\\site-packages (from catboost) (1.26.4)\n",
      "Requirement already satisfied: pandas>=0.24 in c:\\users\\acer\\anaconda3\\lib\\site-packages (from catboost) (2.2.3)\n",
      "Requirement already satisfied: scipy in c:\\users\\acer\\anaconda3\\lib\\site-packages (from catboost) (1.15.1)\n",
      "Requirement already satisfied: plotly in c:\\users\\acer\\anaconda3\\lib\\site-packages (from catboost) (5.24.1)\n",
      "Requirement already satisfied: six in c:\\users\\acer\\anaconda3\\lib\\site-packages (from catboost) (1.16.0)\n",
      "Requirement already satisfied: python-dateutil>=2.8.2 in c:\\users\\acer\\anaconda3\\lib\\site-packages (from pandas>=0.24->catboost) (2.9.0.post0)\n",
      "Requirement already satisfied: pytz>=2020.1 in c:\\users\\acer\\anaconda3\\lib\\site-packages (from pandas>=0.24->catboost) (2024.1)\n",
      "Requirement already satisfied: tzdata>=2022.7 in c:\\users\\acer\\anaconda3\\lib\\site-packages (from pandas>=0.24->catboost) (2023.3)\n",
      "Requirement already satisfied: contourpy>=1.0.1 in c:\\users\\acer\\anaconda3\\lib\\site-packages (from matplotlib->catboost) (1.3.1)\n",
      "Requirement already satisfied: cycler>=0.10 in c:\\users\\acer\\anaconda3\\lib\\site-packages (from matplotlib->catboost) (0.11.0)\n",
      "Requirement already satisfied: fonttools>=4.22.0 in c:\\users\\acer\\anaconda3\\lib\\site-packages (from matplotlib->catboost) (4.55.3)\n",
      "Requirement already satisfied: kiwisolver>=1.3.1 in c:\\users\\acer\\anaconda3\\lib\\site-packages (from matplotlib->catboost) (1.4.8)\n",
      "Requirement already satisfied: packaging>=20.0 in c:\\users\\acer\\anaconda3\\lib\\site-packages (from matplotlib->catboost) (24.2)\n",
      "Requirement already satisfied: pillow>=8 in c:\\users\\acer\\anaconda3\\lib\\site-packages (from matplotlib->catboost) (11.1.0)\n",
      "Requirement already satisfied: pyparsing>=2.3.1 in c:\\users\\acer\\anaconda3\\lib\\site-packages (from matplotlib->catboost) (3.2.0)\n",
      "Requirement already satisfied: tenacity>=6.2.0 in c:\\users\\acer\\anaconda3\\lib\\site-packages (from plotly->catboost) (9.0.0)\n"
     ]
    }
   ],
   "source": [
    "!pip install catboost"
   ]
  },
  {
   "cell_type": "code",
   "execution_count": 8,
   "id": "141e2a2b-461d-4d18-a521-9f11bad27149",
   "metadata": {},
   "outputs": [],
   "source": [
    "from catboost import CatBoostClassifier"
   ]
  },
  {
   "cell_type": "code",
   "execution_count": 10,
   "id": "7bb4c3f8-7804-43af-a9d5-558f68f494cc",
   "metadata": {},
   "outputs": [],
   "source": [
    "catb_model = CatBoostClassifier().fit(X_train, y_train, verbose = False)"
   ]
  },
  {
   "cell_type": "code",
   "execution_count": 12,
   "id": "e82bc5a8-3d11-4e76-a72e-bfd0dc8278e7",
   "metadata": {},
   "outputs": [],
   "source": [
    "y_pred = catb_model.predict(X_test)"
   ]
  },
  {
   "cell_type": "code",
   "execution_count": 14,
   "id": "12fb5b10-ba55-4225-bdb4-decefda54e81",
   "metadata": {},
   "outputs": [
    {
     "data": {
      "text/plain": [
       "1.0"
      ]
     },
     "execution_count": 14,
     "metadata": {},
     "output_type": "execute_result"
    }
   ],
   "source": [
    "accuracy_score(y_test, y_pred)"
   ]
  },
  {
   "cell_type": "code",
   "execution_count": null,
   "id": "0b24dffa-4d3f-4fac-8f26-3bcd3f5c7c62",
   "metadata": {},
   "outputs": [],
   "source": [
    "#tuning"
   ]
  },
  {
   "cell_type": "code",
   "execution_count": 16,
   "id": "d685c68c-4af7-4c87-a51d-c0ee544762e7",
   "metadata": {},
   "outputs": [],
   "source": [
    "catb = CatBoostClassifier()"
   ]
  },
  {
   "cell_type": "code",
   "execution_count": 18,
   "id": "246d5109-ffd3-44e3-8925-bd5191054da7",
   "metadata": {},
   "outputs": [],
   "source": [
    "catb_params = {\"iterations\": [100,500],\n",
    "               \"learning_rate\": [0.01, 0.1],\n",
    "               \"depth\": [4,8]}"
   ]
  },
  {
   "cell_type": "code",
   "execution_count": 20,
   "id": "e2c984ed-f4b5-40ae-bdc7-75a0fbe89374",
   "metadata": {},
   "outputs": [
    {
     "name": "stderr",
     "output_type": "stream",
     "text": [
      "C:\\Users\\acer\\anaconda3\\Lib\\site-packages\\sklearn\\model_selection\\_split.py:805: UserWarning: The least populated class in y has only 1 members, which is less than n_splits=5.\n",
      "  warnings.warn(\n"
     ]
    },
    {
     "name": "stdout",
     "output_type": "stream",
     "text": [
      "0:\tlearn: 1.4341892\ttotal: 38.3ms\tremaining: 3.79s\n",
      "1:\tlearn: 1.1731409\ttotal: 76.7ms\tremaining: 3.76s\n",
      "2:\tlearn: 0.9957901\ttotal: 117ms\tremaining: 3.79s\n",
      "3:\tlearn: 0.8520169\ttotal: 160ms\tremaining: 3.85s\n",
      "4:\tlearn: 0.7460226\ttotal: 199ms\tremaining: 3.79s\n",
      "5:\tlearn: 0.6527086\ttotal: 243ms\tremaining: 3.8s\n",
      "6:\tlearn: 0.5771133\ttotal: 285ms\tremaining: 3.79s\n",
      "7:\tlearn: 0.5093634\ttotal: 327ms\tremaining: 3.76s\n",
      "8:\tlearn: 0.4554925\ttotal: 367ms\tremaining: 3.71s\n",
      "9:\tlearn: 0.4070857\ttotal: 407ms\tremaining: 3.66s\n",
      "10:\tlearn: 0.3638837\ttotal: 444ms\tremaining: 3.6s\n",
      "11:\tlearn: 0.3249048\ttotal: 458ms\tremaining: 3.36s\n",
      "12:\tlearn: 0.2920385\ttotal: 497ms\tremaining: 3.33s\n",
      "13:\tlearn: 0.2630651\ttotal: 534ms\tremaining: 3.28s\n",
      "14:\tlearn: 0.2372707\ttotal: 572ms\tremaining: 3.24s\n",
      "15:\tlearn: 0.2146019\ttotal: 605ms\tremaining: 3.18s\n",
      "16:\tlearn: 0.1958251\ttotal: 642ms\tremaining: 3.14s\n",
      "17:\tlearn: 0.1777140\ttotal: 682ms\tremaining: 3.11s\n",
      "18:\tlearn: 0.1612204\ttotal: 719ms\tremaining: 3.06s\n",
      "19:\tlearn: 0.1461168\ttotal: 734ms\tremaining: 2.94s\n",
      "20:\tlearn: 0.1331808\ttotal: 776ms\tremaining: 2.92s\n",
      "21:\tlearn: 0.1222375\ttotal: 814ms\tremaining: 2.88s\n",
      "22:\tlearn: 0.1121358\ttotal: 856ms\tremaining: 2.87s\n",
      "23:\tlearn: 0.1025855\ttotal: 895ms\tremaining: 2.83s\n",
      "24:\tlearn: 0.0935082\ttotal: 909ms\tremaining: 2.73s\n",
      "25:\tlearn: 0.0859730\ttotal: 950ms\tremaining: 2.7s\n",
      "26:\tlearn: 0.0795051\ttotal: 990ms\tremaining: 2.68s\n",
      "27:\tlearn: 0.0730422\ttotal: 1.03s\tremaining: 2.65s\n",
      "28:\tlearn: 0.0677268\ttotal: 1.07s\tremaining: 2.62s\n",
      "29:\tlearn: 0.0631380\ttotal: 1.11s\tremaining: 2.58s\n",
      "30:\tlearn: 0.0586778\ttotal: 1.15s\tremaining: 2.55s\n",
      "31:\tlearn: 0.0546013\ttotal: 1.19s\tremaining: 2.52s\n",
      "32:\tlearn: 0.0507020\ttotal: 1.23s\tremaining: 2.49s\n",
      "33:\tlearn: 0.0469662\ttotal: 1.27s\tremaining: 2.46s\n",
      "34:\tlearn: 0.0437496\ttotal: 1.3s\tremaining: 2.42s\n",
      "35:\tlearn: 0.0405516\ttotal: 1.34s\tremaining: 2.38s\n",
      "36:\tlearn: 0.0377073\ttotal: 1.36s\tremaining: 2.32s\n",
      "37:\tlearn: 0.0352918\ttotal: 1.4s\tremaining: 2.28s\n",
      "38:\tlearn: 0.0325221\ttotal: 1.41s\tremaining: 2.2s\n",
      "39:\tlearn: 0.0303110\ttotal: 1.44s\tremaining: 2.17s\n",
      "40:\tlearn: 0.0284907\ttotal: 1.48s\tremaining: 2.13s\n",
      "41:\tlearn: 0.0270298\ttotal: 1.51s\tremaining: 2.09s\n",
      "42:\tlearn: 0.0254814\ttotal: 1.55s\tremaining: 2.05s\n",
      "43:\tlearn: 0.0242244\ttotal: 1.58s\tremaining: 2.02s\n",
      "44:\tlearn: 0.0226692\ttotal: 1.6s\tremaining: 1.96s\n",
      "45:\tlearn: 0.0214839\ttotal: 1.64s\tremaining: 1.92s\n",
      "46:\tlearn: 0.0199901\ttotal: 1.65s\tremaining: 1.86s\n",
      "47:\tlearn: 0.0189072\ttotal: 1.69s\tremaining: 1.83s\n",
      "48:\tlearn: 0.0180066\ttotal: 1.73s\tremaining: 1.8s\n",
      "49:\tlearn: 0.0172333\ttotal: 1.76s\tremaining: 1.76s\n",
      "50:\tlearn: 0.0163031\ttotal: 1.77s\tremaining: 1.71s\n",
      "51:\tlearn: 0.0155100\ttotal: 1.81s\tremaining: 1.67s\n",
      "52:\tlearn: 0.0146219\ttotal: 1.83s\tremaining: 1.62s\n",
      "53:\tlearn: 0.0141009\ttotal: 1.87s\tremaining: 1.59s\n",
      "54:\tlearn: 0.0135595\ttotal: 1.91s\tremaining: 1.56s\n",
      "55:\tlearn: 0.0131036\ttotal: 1.95s\tremaining: 1.53s\n",
      "56:\tlearn: 0.0125442\ttotal: 1.98s\tremaining: 1.5s\n",
      "57:\tlearn: 0.0122358\ttotal: 1.99s\tremaining: 1.44s\n",
      "58:\tlearn: 0.0117101\ttotal: 2.03s\tremaining: 1.41s\n",
      "59:\tlearn: 0.0112568\ttotal: 2.07s\tremaining: 1.38s\n",
      "60:\tlearn: 0.0107518\ttotal: 2.08s\tremaining: 1.33s\n",
      "61:\tlearn: 0.0104171\ttotal: 2.12s\tremaining: 1.3s\n",
      "62:\tlearn: 0.0102526\ttotal: 2.15s\tremaining: 1.26s\n",
      "63:\tlearn: 0.0099804\ttotal: 2.19s\tremaining: 1.23s\n",
      "64:\tlearn: 0.0096982\ttotal: 2.22s\tremaining: 1.2s\n",
      "65:\tlearn: 0.0093404\ttotal: 2.26s\tremaining: 1.16s\n",
      "66:\tlearn: 0.0089469\ttotal: 2.28s\tremaining: 1.12s\n",
      "67:\tlearn: 0.0086595\ttotal: 2.3s\tremaining: 1.08s\n",
      "68:\tlearn: 0.0083667\ttotal: 2.34s\tremaining: 1.05s\n",
      "69:\tlearn: 0.0081761\ttotal: 2.38s\tremaining: 1.02s\n",
      "70:\tlearn: 0.0079101\ttotal: 2.41s\tremaining: 986ms\n",
      "71:\tlearn: 0.0077943\ttotal: 2.45s\tremaining: 952ms\n",
      "72:\tlearn: 0.0075347\ttotal: 2.48s\tremaining: 919ms\n",
      "73:\tlearn: 0.0074631\ttotal: 2.52s\tremaining: 886ms\n",
      "74:\tlearn: 0.0073664\ttotal: 2.56s\tremaining: 852ms\n",
      "75:\tlearn: 0.0071597\ttotal: 2.59s\tremaining: 818ms\n",
      "76:\tlearn: 0.0070287\ttotal: 2.63s\tremaining: 784ms\n",
      "77:\tlearn: 0.0067045\ttotal: 2.64s\tremaining: 744ms\n",
      "78:\tlearn: 0.0066286\ttotal: 2.67s\tremaining: 711ms\n",
      "79:\tlearn: 0.0065403\ttotal: 2.71s\tremaining: 677ms\n",
      "80:\tlearn: 0.0063982\ttotal: 2.74s\tremaining: 643ms\n",
      "81:\tlearn: 0.0062123\ttotal: 2.78s\tremaining: 610ms\n",
      "82:\tlearn: 0.0060538\ttotal: 2.81s\tremaining: 577ms\n",
      "83:\tlearn: 0.0059394\ttotal: 2.85s\tremaining: 543ms\n",
      "84:\tlearn: 0.0058864\ttotal: 2.89s\tremaining: 510ms\n",
      "85:\tlearn: 0.0058362\ttotal: 2.92s\tremaining: 476ms\n",
      "86:\tlearn: 0.0057921\ttotal: 2.96s\tremaining: 442ms\n",
      "87:\tlearn: 0.0056809\ttotal: 2.99s\tremaining: 408ms\n",
      "88:\tlearn: 0.0055914\ttotal: 3.02s\tremaining: 374ms\n",
      "89:\tlearn: 0.0055123\ttotal: 3.06s\tremaining: 340ms\n",
      "90:\tlearn: 0.0053778\ttotal: 3.09s\tremaining: 306ms\n",
      "91:\tlearn: 0.0053329\ttotal: 3.13s\tremaining: 272ms\n",
      "92:\tlearn: 0.0052867\ttotal: 3.16s\tremaining: 238ms\n",
      "93:\tlearn: 0.0051667\ttotal: 3.19s\tremaining: 204ms\n",
      "94:\tlearn: 0.0050867\ttotal: 3.23s\tremaining: 170ms\n",
      "95:\tlearn: 0.0049641\ttotal: 3.25s\tremaining: 135ms\n",
      "96:\tlearn: 0.0049305\ttotal: 3.29s\tremaining: 102ms\n",
      "97:\tlearn: 0.0048092\ttotal: 3.31s\tremaining: 67.5ms\n",
      "98:\tlearn: 0.0047347\ttotal: 3.34s\tremaining: 33.7ms\n",
      "99:\tlearn: 0.0046624\ttotal: 3.37s\tremaining: 0us\n"
     ]
    }
   ],
   "source": [
    "catb_cv_model = GridSearchCV(catb, catb_params, n_jobs=-1).fit(X_train, y_train)"
   ]
  },
  {
   "cell_type": "code",
   "execution_count": 22,
   "id": "beee3458-c3c2-4bf2-af77-cc16c670ad68",
   "metadata": {},
   "outputs": [
    {
     "data": {
      "text/plain": [
       "{'depth': 8, 'iterations': 100, 'learning_rate': 0.1}"
      ]
     },
     "execution_count": 22,
     "metadata": {},
     "output_type": "execute_result"
    }
   ],
   "source": [
    "catb_cv_model.best_params_"
   ]
  },
  {
   "cell_type": "code",
   "execution_count": 24,
   "id": "6d06d6fb-f121-4f79-b763-ce32154b3cde",
   "metadata": {
    "collapsed": true,
    "jupyter": {
     "outputs_hidden": true
    }
   },
   "outputs": [
    {
     "name": "stdout",
     "output_type": "stream",
     "text": [
      "0:\tlearn: 1.4341892\ttotal: 49.5ms\tremaining: 4.9s\n",
      "1:\tlearn: 1.1731409\ttotal: 88.6ms\tremaining: 4.34s\n",
      "2:\tlearn: 0.9957901\ttotal: 124ms\tremaining: 4.01s\n",
      "3:\tlearn: 0.8520169\ttotal: 162ms\tremaining: 3.88s\n",
      "4:\tlearn: 0.7460226\ttotal: 197ms\tremaining: 3.74s\n",
      "5:\tlearn: 0.6527086\ttotal: 231ms\tremaining: 3.62s\n",
      "6:\tlearn: 0.5771133\ttotal: 265ms\tremaining: 3.52s\n",
      "7:\tlearn: 0.5093634\ttotal: 300ms\tremaining: 3.45s\n",
      "8:\tlearn: 0.4554925\ttotal: 334ms\tremaining: 3.37s\n",
      "9:\tlearn: 0.4070857\ttotal: 366ms\tremaining: 3.29s\n",
      "10:\tlearn: 0.3638837\ttotal: 398ms\tremaining: 3.22s\n",
      "11:\tlearn: 0.3249048\ttotal: 410ms\tremaining: 3.01s\n",
      "12:\tlearn: 0.2920385\ttotal: 444ms\tremaining: 2.97s\n",
      "13:\tlearn: 0.2630651\ttotal: 478ms\tremaining: 2.94s\n",
      "14:\tlearn: 0.2372707\ttotal: 512ms\tremaining: 2.9s\n",
      "15:\tlearn: 0.2146019\ttotal: 544ms\tremaining: 2.86s\n",
      "16:\tlearn: 0.1958251\ttotal: 577ms\tremaining: 2.82s\n",
      "17:\tlearn: 0.1777140\ttotal: 609ms\tremaining: 2.78s\n",
      "18:\tlearn: 0.1612204\ttotal: 642ms\tremaining: 2.74s\n",
      "19:\tlearn: 0.1461168\ttotal: 654ms\tremaining: 2.61s\n",
      "20:\tlearn: 0.1331808\ttotal: 688ms\tremaining: 2.59s\n",
      "21:\tlearn: 0.1222375\ttotal: 721ms\tremaining: 2.56s\n",
      "22:\tlearn: 0.1121358\ttotal: 755ms\tremaining: 2.53s\n",
      "23:\tlearn: 0.1025855\ttotal: 788ms\tremaining: 2.49s\n",
      "24:\tlearn: 0.0935082\ttotal: 800ms\tremaining: 2.4s\n",
      "25:\tlearn: 0.0859730\ttotal: 835ms\tremaining: 2.38s\n",
      "26:\tlearn: 0.0795051\ttotal: 868ms\tremaining: 2.35s\n",
      "27:\tlearn: 0.0730422\ttotal: 902ms\tremaining: 2.32s\n",
      "28:\tlearn: 0.0677268\ttotal: 938ms\tremaining: 2.3s\n",
      "29:\tlearn: 0.0631380\ttotal: 973ms\tremaining: 2.27s\n",
      "30:\tlearn: 0.0586778\ttotal: 1.01s\tremaining: 2.24s\n",
      "31:\tlearn: 0.0546013\ttotal: 1.04s\tremaining: 2.21s\n",
      "32:\tlearn: 0.0507020\ttotal: 1.07s\tremaining: 2.18s\n",
      "33:\tlearn: 0.0469662\ttotal: 1.11s\tremaining: 2.15s\n",
      "34:\tlearn: 0.0437496\ttotal: 1.14s\tremaining: 2.12s\n",
      "35:\tlearn: 0.0405516\ttotal: 1.19s\tremaining: 2.11s\n",
      "36:\tlearn: 0.0377073\ttotal: 1.21s\tremaining: 2.06s\n",
      "37:\tlearn: 0.0352918\ttotal: 1.24s\tremaining: 2.02s\n",
      "38:\tlearn: 0.0325221\ttotal: 1.25s\tremaining: 1.95s\n",
      "39:\tlearn: 0.0303110\ttotal: 1.28s\tremaining: 1.92s\n",
      "40:\tlearn: 0.0284907\ttotal: 1.31s\tremaining: 1.89s\n",
      "41:\tlearn: 0.0270298\ttotal: 1.35s\tremaining: 1.86s\n",
      "42:\tlearn: 0.0254814\ttotal: 1.38s\tremaining: 1.83s\n",
      "43:\tlearn: 0.0242244\ttotal: 1.42s\tremaining: 1.8s\n",
      "44:\tlearn: 0.0226692\ttotal: 1.43s\tremaining: 1.75s\n",
      "45:\tlearn: 0.0214839\ttotal: 1.46s\tremaining: 1.72s\n",
      "46:\tlearn: 0.0199901\ttotal: 1.47s\tremaining: 1.66s\n",
      "47:\tlearn: 0.0189072\ttotal: 1.5s\tremaining: 1.63s\n",
      "48:\tlearn: 0.0180066\ttotal: 1.54s\tremaining: 1.6s\n",
      "49:\tlearn: 0.0172333\ttotal: 1.57s\tremaining: 1.57s\n",
      "50:\tlearn: 0.0163031\ttotal: 1.58s\tremaining: 1.51s\n",
      "51:\tlearn: 0.0155100\ttotal: 1.61s\tremaining: 1.49s\n",
      "52:\tlearn: 0.0146219\ttotal: 1.63s\tremaining: 1.45s\n",
      "53:\tlearn: 0.0141009\ttotal: 1.66s\tremaining: 1.42s\n",
      "54:\tlearn: 0.0135595\ttotal: 1.7s\tremaining: 1.39s\n",
      "55:\tlearn: 0.0131036\ttotal: 1.73s\tremaining: 1.36s\n",
      "56:\tlearn: 0.0125442\ttotal: 1.76s\tremaining: 1.33s\n",
      "57:\tlearn: 0.0122358\ttotal: 1.77s\tremaining: 1.28s\n",
      "58:\tlearn: 0.0117101\ttotal: 1.81s\tremaining: 1.25s\n",
      "59:\tlearn: 0.0112568\ttotal: 1.84s\tremaining: 1.23s\n",
      "60:\tlearn: 0.0107518\ttotal: 1.85s\tremaining: 1.18s\n",
      "61:\tlearn: 0.0104171\ttotal: 1.88s\tremaining: 1.15s\n",
      "62:\tlearn: 0.0102526\ttotal: 1.92s\tremaining: 1.12s\n",
      "63:\tlearn: 0.0099804\ttotal: 1.95s\tremaining: 1.09s\n",
      "64:\tlearn: 0.0096982\ttotal: 1.98s\tremaining: 1.06s\n",
      "65:\tlearn: 0.0093404\ttotal: 2.01s\tremaining: 1.04s\n",
      "66:\tlearn: 0.0089469\ttotal: 2.03s\tremaining: 1s\n",
      "67:\tlearn: 0.0086595\ttotal: 2.05s\tremaining: 964ms\n",
      "68:\tlearn: 0.0083667\ttotal: 2.08s\tremaining: 935ms\n",
      "69:\tlearn: 0.0081761\ttotal: 2.12s\tremaining: 907ms\n",
      "70:\tlearn: 0.0079101\ttotal: 2.15s\tremaining: 877ms\n",
      "71:\tlearn: 0.0077943\ttotal: 2.18s\tremaining: 847ms\n",
      "72:\tlearn: 0.0075347\ttotal: 2.21s\tremaining: 817ms\n",
      "73:\tlearn: 0.0074631\ttotal: 2.24s\tremaining: 788ms\n",
      "74:\tlearn: 0.0073664\ttotal: 2.28s\tremaining: 759ms\n",
      "75:\tlearn: 0.0071597\ttotal: 2.31s\tremaining: 730ms\n",
      "76:\tlearn: 0.0070287\ttotal: 2.34s\tremaining: 700ms\n",
      "77:\tlearn: 0.0067045\ttotal: 2.35s\tremaining: 664ms\n",
      "78:\tlearn: 0.0066286\ttotal: 2.39s\tremaining: 635ms\n",
      "79:\tlearn: 0.0065403\ttotal: 2.42s\tremaining: 606ms\n",
      "80:\tlearn: 0.0063982\ttotal: 2.46s\tremaining: 576ms\n",
      "81:\tlearn: 0.0062123\ttotal: 2.49s\tremaining: 547ms\n",
      "82:\tlearn: 0.0060538\ttotal: 2.53s\tremaining: 518ms\n",
      "83:\tlearn: 0.0059394\ttotal: 2.6s\tremaining: 496ms\n",
      "84:\tlearn: 0.0058864\ttotal: 2.65s\tremaining: 468ms\n",
      "85:\tlearn: 0.0058362\ttotal: 2.69s\tremaining: 438ms\n",
      "86:\tlearn: 0.0057921\ttotal: 2.73s\tremaining: 409ms\n",
      "87:\tlearn: 0.0056809\ttotal: 2.77s\tremaining: 378ms\n",
      "88:\tlearn: 0.0055914\ttotal: 2.8s\tremaining: 347ms\n",
      "89:\tlearn: 0.0055123\ttotal: 2.84s\tremaining: 315ms\n",
      "90:\tlearn: 0.0053778\ttotal: 2.87s\tremaining: 284ms\n",
      "91:\tlearn: 0.0053329\ttotal: 2.9s\tremaining: 252ms\n",
      "92:\tlearn: 0.0052867\ttotal: 2.94s\tremaining: 221ms\n",
      "93:\tlearn: 0.0051667\ttotal: 2.97s\tremaining: 190ms\n",
      "94:\tlearn: 0.0050867\ttotal: 3s\tremaining: 158ms\n",
      "95:\tlearn: 0.0049641\ttotal: 3.02s\tremaining: 126ms\n",
      "96:\tlearn: 0.0049305\ttotal: 3.06s\tremaining: 94.6ms\n",
      "97:\tlearn: 0.0048092\ttotal: 3.08s\tremaining: 62.8ms\n",
      "98:\tlearn: 0.0047347\ttotal: 3.11s\tremaining: 31.4ms\n",
      "99:\tlearn: 0.0046624\ttotal: 3.14s\tremaining: 0us\n"
     ]
    }
   ],
   "source": [
    "catb_tuned = CatBoostClassifier(iterations = 100, learning_rate = 0.1, depth= 8).fit(X_train, y_train)"
   ]
  },
  {
   "cell_type": "code",
   "execution_count": 26,
   "id": "0574f2b1-5aac-4b5a-9bd2-f60ae235d3fd",
   "metadata": {},
   "outputs": [],
   "source": [
    "y_pred = catb_tuned.predict(X_test)"
   ]
  },
  {
   "cell_type": "code",
   "execution_count": 28,
   "id": "215129f3-3daf-4afe-88e4-14417050f4d9",
   "metadata": {},
   "outputs": [
    {
     "data": {
      "text/plain": [
       "0.9989969909729187"
      ]
     },
     "execution_count": 28,
     "metadata": {},
     "output_type": "execute_result"
    }
   ],
   "source": [
    "accuracy_score(y_test, y_pred)"
   ]
  },
  {
   "cell_type": "code",
   "execution_count": null,
   "id": "3b6aa4fc-f3af-4d50-8d70-439da31fd3b5",
   "metadata": {},
   "outputs": [],
   "source": []
  }
 ],
 "metadata": {
  "kernelspec": {
   "display_name": "Python [conda env:base] *",
   "language": "python",
   "name": "conda-base-py"
  },
  "language_info": {
   "codemirror_mode": {
    "name": "ipython",
    "version": 3
   },
   "file_extension": ".py",
   "mimetype": "text/x-python",
   "name": "python",
   "nbconvert_exporter": "python",
   "pygments_lexer": "ipython3",
   "version": "3.12.4"
  }
 },
 "nbformat": 4,
 "nbformat_minor": 5
}
