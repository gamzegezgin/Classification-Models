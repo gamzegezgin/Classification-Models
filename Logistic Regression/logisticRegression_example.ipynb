{
 "cells": [
  {
   "cell_type": "markdown",
   "id": "5bfebd63-0674-4735-8c71-4a309eedec77",
   "metadata": {},
   "source": [
    "* Bagımlı değişken(y) kategorik bir değişkendir.\n",
    "* Elde edilen değerler 1-0 arasında olur."
   ]
  },
  {
   "cell_type": "code",
   "execution_count": 77,
   "id": "5f534248-e522-4402-a2ce-f77de41d874b",
   "metadata": {},
   "outputs": [],
   "source": [
    "import numpy as np\n",
    "import pandas as pd\n",
    "import statsmodels.api as sm\n",
    "import seaborn as sns\n",
    "import matplotlib.pyplot as plt\n",
    "from sklearn.preprocessing import scale, StandardScaler\n",
    "from sklearn.model_selection import train_test_split, GridSearchCV, cross_val_score\n",
    "from sklearn.metrics import confusion_matrix, accuracy_score, mean_squared_error, r2_score, roc_auc_score, roc_curve, classification_report\n",
    "from sklearn.linear_model import LogisticRegression\n",
    "from sklearn.neighbors import KNeighborsClassifier\n",
    "from sklearn.svm import SVC\n",
    "from sklearn.neural_network import MLPClassifier\n",
    "from sklearn.tree import DecisionTreeClassifier\n",
    "from sklearn.ensemble import RandomForestClassifier\n",
    "from sklearn.ensemble import GradientBoostingClassifier"
   ]
  },
  {
   "cell_type": "code",
   "execution_count": 31,
   "id": "6f009639-eb5e-45af-bac0-7bb7b7939ff7",
   "metadata": {},
   "outputs": [],
   "source": [
    "import warnings\n",
    "warnings.filterwarnings('ignore', category=DeprecationWarning)\n",
    "warnings.filterwarnings('ignore', category=FutureWarning)"
   ]
  },
  {
   "cell_type": "code",
   "execution_count": 32,
   "id": "85970216-3d83-45f8-93b8-45a2dcd91ef3",
   "metadata": {},
   "outputs": [],
   "source": [
    "df = pd.read_csv(\"../df_cleaned.csv\")"
   ]
  },
  {
   "cell_type": "code",
   "execution_count": 33,
   "id": "2d5325f0-92a6-4f28-82d9-e3ab9d728aec",
   "metadata": {},
   "outputs": [
    {
     "data": {
      "text/html": [
       "<div>\n",
       "<style scoped>\n",
       "    .dataframe tbody tr th:only-of-type {\n",
       "        vertical-align: middle;\n",
       "    }\n",
       "\n",
       "    .dataframe tbody tr th {\n",
       "        vertical-align: top;\n",
       "    }\n",
       "\n",
       "    .dataframe thead th {\n",
       "        text-align: right;\n",
       "    }\n",
       "</style>\n",
       "<table border=\"1\" class=\"dataframe\">\n",
       "  <thead>\n",
       "    <tr style=\"text-align: right;\">\n",
       "      <th></th>\n",
       "      <th>BRCA1</th>\n",
       "      <th>BRCA2</th>\n",
       "      <th>MLPA</th>\n",
       "      <th>MLPApositivity</th>\n",
       "      <th>BRCAstates</th>\n",
       "      <th>OtherMutation</th>\n",
       "      <th>Diagnosis</th>\n",
       "      <th>LeftRightBreast</th>\n",
       "      <th>AgeGroups</th>\n",
       "      <th>Age45</th>\n",
       "      <th>...</th>\n",
       "      <th>Menopause</th>\n",
       "      <th>MenopauseStatus</th>\n",
       "      <th>DogumKontrolHapi</th>\n",
       "      <th>OralContraceptive</th>\n",
       "      <th>InfertiltyTherapy</th>\n",
       "      <th>EstrogenProgesteronUse</th>\n",
       "      <th>TamoxifenNolvadexUse</th>\n",
       "      <th>Radiation</th>\n",
       "      <th>Spor</th>\n",
       "      <th>BRCAstatesNew</th>\n",
       "    </tr>\n",
       "  </thead>\n",
       "  <tbody>\n",
       "    <tr>\n",
       "      <th>0</th>\n",
       "      <td>0</td>\n",
       "      <td>0</td>\n",
       "      <td>1</td>\n",
       "      <td>0</td>\n",
       "      <td>0</td>\n",
       "      <td>0</td>\n",
       "      <td>5</td>\n",
       "      <td>0</td>\n",
       "      <td>1</td>\n",
       "      <td>0</td>\n",
       "      <td>...</td>\n",
       "      <td>-1.0</td>\n",
       "      <td>2</td>\n",
       "      <td>2</td>\n",
       "      <td>0</td>\n",
       "      <td>0</td>\n",
       "      <td>1</td>\n",
       "      <td>0</td>\n",
       "      <td>0</td>\n",
       "      <td>0</td>\n",
       "      <td>0</td>\n",
       "    </tr>\n",
       "    <tr>\n",
       "      <th>1</th>\n",
       "      <td>1</td>\n",
       "      <td>0</td>\n",
       "      <td>1</td>\n",
       "      <td>0</td>\n",
       "      <td>1</td>\n",
       "      <td>0</td>\n",
       "      <td>4</td>\n",
       "      <td>-1</td>\n",
       "      <td>3</td>\n",
       "      <td>1</td>\n",
       "      <td>...</td>\n",
       "      <td>-1.0</td>\n",
       "      <td>2</td>\n",
       "      <td>0</td>\n",
       "      <td>0</td>\n",
       "      <td>0</td>\n",
       "      <td>0</td>\n",
       "      <td>0</td>\n",
       "      <td>0</td>\n",
       "      <td>1</td>\n",
       "      <td>1</td>\n",
       "    </tr>\n",
       "    <tr>\n",
       "      <th>2</th>\n",
       "      <td>0</td>\n",
       "      <td>0</td>\n",
       "      <td>1</td>\n",
       "      <td>0</td>\n",
       "      <td>0</td>\n",
       "      <td>0</td>\n",
       "      <td>1</td>\n",
       "      <td>-1</td>\n",
       "      <td>-1</td>\n",
       "      <td>-1</td>\n",
       "      <td>...</td>\n",
       "      <td>-1.0</td>\n",
       "      <td>1</td>\n",
       "      <td>0</td>\n",
       "      <td>0</td>\n",
       "      <td>1</td>\n",
       "      <td>0</td>\n",
       "      <td>0</td>\n",
       "      <td>0</td>\n",
       "      <td>0</td>\n",
       "      <td>0</td>\n",
       "    </tr>\n",
       "    <tr>\n",
       "      <th>3</th>\n",
       "      <td>0</td>\n",
       "      <td>0</td>\n",
       "      <td>1</td>\n",
       "      <td>0</td>\n",
       "      <td>0</td>\n",
       "      <td>0</td>\n",
       "      <td>1</td>\n",
       "      <td>-1</td>\n",
       "      <td>1</td>\n",
       "      <td>0</td>\n",
       "      <td>...</td>\n",
       "      <td>-1.0</td>\n",
       "      <td>1</td>\n",
       "      <td>0</td>\n",
       "      <td>0</td>\n",
       "      <td>0</td>\n",
       "      <td>0</td>\n",
       "      <td>0</td>\n",
       "      <td>0</td>\n",
       "      <td>2</td>\n",
       "      <td>0</td>\n",
       "    </tr>\n",
       "    <tr>\n",
       "      <th>4</th>\n",
       "      <td>0</td>\n",
       "      <td>0</td>\n",
       "      <td>1</td>\n",
       "      <td>0</td>\n",
       "      <td>0</td>\n",
       "      <td>0</td>\n",
       "      <td>1</td>\n",
       "      <td>-1</td>\n",
       "      <td>2</td>\n",
       "      <td>0</td>\n",
       "      <td>...</td>\n",
       "      <td>-1.0</td>\n",
       "      <td>1</td>\n",
       "      <td>2</td>\n",
       "      <td>1</td>\n",
       "      <td>0</td>\n",
       "      <td>0</td>\n",
       "      <td>0</td>\n",
       "      <td>0</td>\n",
       "      <td>1</td>\n",
       "      <td>0</td>\n",
       "    </tr>\n",
       "  </tbody>\n",
       "</table>\n",
       "<p>5 rows × 103 columns</p>\n",
       "</div>"
      ],
      "text/plain": [
       "   BRCA1  BRCA2  MLPA  MLPApositivity  BRCAstates  OtherMutation  Diagnosis  \\\n",
       "0      0      0     1               0           0              0          5   \n",
       "1      1      0     1               0           1              0          4   \n",
       "2      0      0     1               0           0              0          1   \n",
       "3      0      0     1               0           0              0          1   \n",
       "4      0      0     1               0           0              0          1   \n",
       "\n",
       "   LeftRightBreast  AgeGroups  Age45  ...  Menopause  MenopauseStatus  \\\n",
       "0                0          1      0  ...       -1.0                2   \n",
       "1               -1          3      1  ...       -1.0                2   \n",
       "2               -1         -1     -1  ...       -1.0                1   \n",
       "3               -1          1      0  ...       -1.0                1   \n",
       "4               -1          2      0  ...       -1.0                1   \n",
       "\n",
       "   DogumKontrolHapi  OralContraceptive  InfertiltyTherapy  \\\n",
       "0                 2                  0                  0   \n",
       "1                 0                  0                  0   \n",
       "2                 0                  0                  1   \n",
       "3                 0                  0                  0   \n",
       "4                 2                  1                  0   \n",
       "\n",
       "   EstrogenProgesteronUse  TamoxifenNolvadexUse  Radiation  Spor  \\\n",
       "0                       1                     0          0     0   \n",
       "1                       0                     0          0     1   \n",
       "2                       0                     0          0     0   \n",
       "3                       0                     0          0     2   \n",
       "4                       0                     0          0     1   \n",
       "\n",
       "   BRCAstatesNew  \n",
       "0              0  \n",
       "1              1  \n",
       "2              0  \n",
       "3              0  \n",
       "4              0  \n",
       "\n",
       "[5 rows x 103 columns]"
      ]
     },
     "execution_count": 33,
     "metadata": {},
     "output_type": "execute_result"
    }
   ],
   "source": [
    "df.head()"
   ]
  },
  {
   "cell_type": "markdown",
   "id": "38e46f72-5759-4bc7-82a3-eb8147ea033b",
   "metadata": {},
   "source": [
    "Model & Tahmin"
   ]
  },
  {
   "cell_type": "code",
   "execution_count": 34,
   "id": "d48e1a98-3dda-458f-8b02-928eb992ef0d",
   "metadata": {},
   "outputs": [
    {
     "data": {
      "text/plain": [
       "BRCAstatesNew\n",
       "0    2758\n",
       "1     227\n",
       "2     174\n",
       "4     150\n",
       "5       7\n",
       "6       4\n",
       "3       2\n",
       "Name: count, dtype: int64"
      ]
     },
     "execution_count": 34,
     "metadata": {},
     "output_type": "execute_result"
    }
   ],
   "source": [
    "df[\"BRCAstatesNew\"].value_counts()"
   ]
  },
  {
   "cell_type": "code",
   "execution_count": 60,
   "id": "e103e15e-13b9-4d4b-81a2-467bb697ff3a",
   "metadata": {},
   "outputs": [],
   "source": [
    "y = df[\"BRCAstatesNew\"]\n",
    "X = df.drop([\"BRCAstatesNew\"], axis =1)"
   ]
  },
  {
   "cell_type": "code",
   "execution_count": 61,
   "id": "ec7a55b8-69ab-4c27-99e6-c47cabba2545",
   "metadata": {},
   "outputs": [],
   "source": [
    "X_train, X_test, y_train, y_test = train_test_split(X, y, test_size=0.3, random_state=42, stratify=y)\n"
   ]
  },
  {
   "cell_type": "code",
   "execution_count": 62,
   "id": "9bc40b25-7b84-4cca-9ec0-88b4a88a8ebc",
   "metadata": {},
   "outputs": [],
   "source": [
    "from sklearn.preprocessing import StandardScaler\n",
    "scaler = StandardScaler()\n",
    "X_train_scaled = scaler.fit_transform(X_train)\n",
    "X_test_scaled = scaler.transform(X_test)\n",
    "\n",
    "# X_test_scaled = scaler.fit_transform(X_test) ----> büyük hatadır, veri sızıntısına sebep olur, öğrenme test verisine bakarak da yapılır bunu yapmamalısın, x_test için sadece transform\n",
    "loj_model = LogisticRegression(multi_class='multinomial', solver='lbfgs', max_iter = 1000).fit(X_train_scaled,y_train)\n",
    "# multinomial degilse yani 2den fazla classı yoksa solver=liblinear uygundur\n"
   ]
  },
  {
   "cell_type": "code",
   "execution_count": 63,
   "id": "50a847a5-d541-4ebe-b041-c4a2a8dbd09e",
   "metadata": {},
   "outputs": [
    {
     "data": {
      "text/plain": [
       "array([ 7.42106294, -0.50254804, -0.85013531, -1.62325887, -0.98141691,\n",
       "       -1.74440375, -1.71930007])"
      ]
     },
     "execution_count": 63,
     "metadata": {},
     "output_type": "execute_result"
    }
   ],
   "source": [
    "loj_model.intercept_\n",
    "#modelimiz 7 sınıf içeriyor\n",
    "#model ilk sınıf için istekli ama diğerleri için değil, dengesiz bir dağılım söz konusu olabikir"
   ]
  },
  {
   "cell_type": "code",
   "execution_count": 64,
   "id": "2ac8f18a-27b0-4e23-b305-81f5e7cd2b76",
   "metadata": {
    "scrolled": true
   },
   "outputs": [
    {
     "data": {
      "text/plain": [
       "array([[-1.34760753e+00, -8.63643309e-01, -4.98460079e-02,\n",
       "        -4.86567258e-02, -9.58569347e-01, -1.32506553e+00,\n",
       "        -4.44038552e-02, -5.48981544e-02,  4.50328427e-02,\n",
       "        -8.16204856e-03,  5.50567426e-02,  6.68647478e-03,\n",
       "         5.92241645e-03, -1.47871053e-02, -7.23591072e-02,\n",
       "         3.36288447e-02,  5.66046054e-02,  6.37963177e-02,\n",
       "         2.10285744e-02, -4.33296188e-03, -4.78713678e-02,\n",
       "        -3.25454537e-02, -5.81737970e-03,  1.38301620e-02,\n",
       "         4.36843280e-02,  1.60665608e-02,  3.13639227e-02,\n",
       "         3.06093150e-03, -6.70435808e-02,  2.18202538e-02,\n",
       "        -3.15761416e-02, -5.47141602e-02,  2.74421090e-02,\n",
       "        -1.53330264e-02, -3.14686315e-02, -6.08939292e-02,\n",
       "         1.00063688e-02, -5.28466164e-02, -8.09604248e-02,\n",
       "        -6.48239629e-03,  6.17723312e-04, -1.17148158e-04,\n",
       "         2.94375830e-03,  1.86381145e-02,  7.02538609e-02,\n",
       "        -2.24663885e-02,  2.98367086e-02, -8.94181952e-03,\n",
       "         2.40672174e-03,  3.62029241e-02,  4.14002467e-02,\n",
       "         1.59152642e-03, -2.17712856e-02,  3.18042203e-03,\n",
       "        -3.19427668e-02, -2.88556288e-02,  4.48296505e-02,\n",
       "         5.99701956e-03,  2.94159092e-02,  2.09340985e-02,\n",
       "        -7.02058284e-02, -2.12219261e-02, -4.44474798e-02,\n",
       "        -4.16216565e-02, -5.49316790e-02, -5.93004269e-02,\n",
       "        -2.95792051e-02,  1.22350726e-03, -7.43257890e-03,\n",
       "        -4.08493360e-03,  1.14496056e-02, -2.89322056e-02,\n",
       "         1.62016435e-02,  1.28364055e-02,  6.13629902e-02,\n",
       "        -3.68057526e-02, -3.59988840e-02, -4.53759397e-02,\n",
       "         8.49731380e-03,  3.04348529e-02,  1.28748457e-03,\n",
       "         1.57406393e-02, -6.28475397e-02,  8.62466757e-02,\n",
       "        -6.21064788e-02,  4.09028328e-03, -2.67159156e-02,\n",
       "         2.28909031e-02,  2.98262207e-03, -2.90625800e-02,\n",
       "        -4.13640171e-02, -1.02368780e-02, -1.67542970e-02,\n",
       "        -9.33592344e-04,  2.32713136e-03,  9.64668614e-03,\n",
       "         1.06274176e-02, -8.79856270e-03, -2.82170806e-02,\n",
       "        -1.91315982e-02, -2.05010645e-02, -3.83083053e-02],\n",
       "       [ 1.81487852e+00, -3.65014261e-01, -2.04475496e-02,\n",
       "         8.58227018e-02,  4.32616726e-01, -7.56872690e-01,\n",
       "        -1.42916100e-01,  4.70471348e-02, -2.96839076e-02,\n",
       "         2.42732409e-02, -4.59137973e-02, -1.33819207e-02,\n",
       "         2.89512671e-02,  6.65598474e-02, -6.40657503e-03,\n",
       "        -2.08112538e-02, -6.95987194e-02, -5.71938364e-02,\n",
       "        -5.28303068e-03,  8.93450212e-03,  7.50796711e-03,\n",
       "         5.42784892e-02, -3.12069471e-02,  5.10997197e-03,\n",
       "        -1.42415378e-01, -3.53344507e-02, -4.33908245e-02,\n",
       "        -5.52996884e-02,  6.05977840e-02,  7.89648532e-02,\n",
       "         9.09768488e-02, -9.16143523e-03,  4.94590402e-02,\n",
       "         4.41596383e-02, -2.73268291e-02,  2.84935973e-02,\n",
       "        -7.04463965e-02, -1.54985011e-02, -3.33186242e-02,\n",
       "         3.85260289e-02,  4.79286806e-02, -6.34910873e-03,\n",
       "         3.43725845e-02, -2.18273473e-03, -3.35777645e-02,\n",
       "         7.58909987e-02, -2.35185765e-03,  4.05367498e-02,\n",
       "        -5.27129609e-03, -6.86928130e-02, -3.90602326e-02,\n",
       "        -3.21625289e-02,  2.50356214e-03,  3.81399346e-02,\n",
       "        -2.64138162e-02, -3.59192533e-02, -4.90911168e-03,\n",
       "        -7.75248347e-02,  1.62712986e-03, -7.44522959e-02,\n",
       "         7.16993503e-02,  1.50867810e-01,  2.30372701e-03,\n",
       "         7.55459116e-02,  1.17670226e-02,  2.95828381e-02,\n",
       "         1.83858617e-02, -1.63645290e-02, -7.96967653e-02,\n",
       "        -9.98964850e-02, -6.76624263e-02, -1.77462315e-02,\n",
       "         6.40529950e-02,  5.02474427e-02,  8.06053213e-02,\n",
       "        -2.24391731e-02, -6.82097882e-02, -6.34308774e-02,\n",
       "         6.97914724e-02,  4.74833553e-02,  5.56840122e-02,\n",
       "        -1.10862984e-01, -1.14778503e-01,  6.30483218e-02,\n",
       "        -7.06679316e-02, -5.86571700e-03, -6.21074557e-02,\n",
       "        -3.62916747e-02, -5.75290918e-02, -2.92120528e-02,\n",
       "        -5.99581021e-03, -1.00789111e-01, -4.84818053e-02,\n",
       "        -2.92163614e-03, -8.04565613e-02, -1.83004942e-02,\n",
       "         5.85348052e-02, -7.11655586e-02,  5.74294420e-02,\n",
       "        -2.28342602e-02,  2.01173185e-02,  1.04074244e-01],\n",
       "       [-3.24067612e-01,  1.30115133e+00,  3.04863834e-02,\n",
       "        -8.09068724e-03,  7.18502279e-01, -5.96516794e-01,\n",
       "        -1.69261778e-01, -7.49755775e-02, -6.47680736e-02,\n",
       "        -8.36829730e-03, -1.09169475e-01,  1.67584014e-02,\n",
       "         1.09466610e-02,  1.41118201e-02,  6.32093287e-02,\n",
       "        -6.21163026e-02, -7.61505794e-02, -5.27559618e-02,\n",
       "         1.08517784e-02,  3.84778609e-02,  9.04874809e-02,\n",
       "         3.50961299e-02,  7.25420726e-02,  1.76890816e-02,\n",
       "        -5.43754088e-02,  9.30625964e-03, -4.62433208e-03,\n",
       "        -5.90850591e-02, -9.37968861e-02, -2.19870520e-02,\n",
       "        -2.93255123e-02,  1.95846371e-02,  5.35319252e-02,\n",
       "        -1.21327296e-02, -5.88776654e-02,  6.21152635e-03,\n",
       "        -6.95418463e-02, -5.80336428e-02, -1.28964489e-02,\n",
       "         8.62901526e-02,  3.41447551e-02,  8.13020930e-02,\n",
       "        -2.81072641e-03,  2.24002228e-02, -2.47185465e-03,\n",
       "         1.26227031e-02,  2.11912246e-02,  1.87623975e-03,\n",
       "         3.26166076e-02, -1.64090035e-03, -8.80378694e-03,\n",
       "         1.26854563e-02, -7.91508388e-02, -1.81412363e-02,\n",
       "         2.40089472e-03, -7.51695899e-03, -7.99047300e-02,\n",
       "        -9.63394191e-02, -3.16628594e-02, -1.30282215e-01,\n",
       "         3.63616679e-03,  4.94331056e-02, -1.80301341e-03,\n",
       "        -4.23702532e-02,  2.11441074e-03,  3.59870030e-02,\n",
       "        -5.82556895e-02,  3.23896166e-02, -5.17767645e-02,\n",
       "        -1.11207330e-01, -6.40485044e-02, -1.04791918e-01,\n",
       "        -4.44918144e-02,  6.09907335e-02,  1.66089032e-01,\n",
       "        -5.17004864e-02,  6.63615485e-02, -1.47573139e-02,\n",
       "         3.36398804e-02,  4.64011758e-03,  6.35417500e-02,\n",
       "         6.91514725e-03, -5.87465676e-02,  3.61900905e-02,\n",
       "        -2.84226706e-02, -6.34189459e-02, -4.85082258e-02,\n",
       "        -1.22787451e-01, -3.52741274e-02,  6.18424800e-02,\n",
       "         6.76927604e-02,  3.40297589e-02,  2.50360253e-02,\n",
       "        -1.59099601e-02, -3.26543933e-02,  1.15892275e-02,\n",
       "         6.79833264e-03, -2.87241286e-03, -2.69533849e-02,\n",
       "         6.57400028e-02,  4.83644498e-02,  7.07614149e-02],\n",
       "       [ 9.36944617e-02,  1.04484583e-01,  1.55982029e-02,\n",
       "        -1.10100766e-01,  1.31494231e-01, -4.36521767e-02,\n",
       "         3.84965505e-01, -1.87563406e-02, -1.47174490e-02,\n",
       "        -8.27370901e-02,  3.78585065e-02, -2.14238849e-03,\n",
       "        -1.30417150e-01, -1.38933121e-01,  1.18590955e-02,\n",
       "         4.08356690e-02,  1.36496513e-02,  2.57858700e-02,\n",
       "        -1.29930568e-03,  3.88694586e-04, -1.07283674e-02,\n",
       "        -3.24206593e-02, -2.59393482e-02, -4.88468847e-02,\n",
       "         5.88174692e-02, -3.50621917e-02,  9.36782435e-03,\n",
       "         5.09662970e-02,  4.55405671e-02, -8.15508833e-02,\n",
       "        -4.95173366e-02,  1.71862471e-02,  9.63002528e-02,\n",
       "        -1.00639093e-03,  1.00323959e-01,  1.16833951e-01,\n",
       "         3.70047742e-02,  1.43310844e-01, -5.63898776e-02,\n",
       "        -3.62120619e-02, -2.85719220e-02, -2.63089132e-02,\n",
       "        -1.26015267e-02, -2.34711676e-02, -1.36992880e-02,\n",
       "        -2.94455384e-02, -1.24712530e-02, -2.34863915e-02,\n",
       "        -7.12779985e-03, -8.13445899e-03, -9.09561735e-03,\n",
       "        -1.40435444e-02,  2.64816475e-02, -2.28953041e-02,\n",
       "         2.10463730e-02, -3.39509680e-02, -2.74490555e-02,\n",
       "        -1.40403166e-02,  5.42182846e-02,  1.82299695e-01,\n",
       "         3.47679714e-02, -3.91834260e-02,  1.87606277e-02,\n",
       "         3.55522608e-02,  3.48126799e-02, -3.45252099e-02,\n",
       "        -5.35777448e-03, -3.56156102e-02,  3.18606628e-03,\n",
       "         3.85169649e-02, -4.49639116e-02,  7.40434015e-02,\n",
       "        -3.29784892e-02,  1.08473138e-02, -2.18617331e-02,\n",
       "         2.09605248e-02,  7.15662823e-02,  3.37189290e-02,\n",
       "        -2.21590339e-02, -1.30782926e-02, -2.31865974e-02,\n",
       "         1.24301518e-01,  1.23132456e-01, -4.70746164e-02,\n",
       "         1.63089949e-02, -4.97060750e-04,  9.48392314e-02,\n",
       "         5.53331508e-02, -3.11657491e-02,  1.73899737e-02,\n",
       "        -5.08897633e-02, -2.68415951e-02, -4.23369682e-03,\n",
       "         9.58428861e-02,  5.68244709e-02,  1.11750760e-01,\n",
       "        -3.20050675e-02, -3.63166485e-02, -1.01396443e-02,\n",
       "        -4.54275785e-02, -1.96251357e-02, -4.71314743e-02],\n",
       "       [-5.72089692e-01, -2.57548915e-01,  1.08638591e-01,\n",
       "        -5.15716288e-01, -5.17354636e-01,  1.64923973e+00,\n",
       "        -1.66800605e-01,  1.71014165e-01,  5.73172691e-02,\n",
       "         2.90707111e-02,  7.52139443e-02, -2.38873346e-02,\n",
       "        -5.04712366e-02, -7.10475175e-02,  6.76206705e-03,\n",
       "         4.13546790e-03, -6.97315117e-03,  1.95315423e-02,\n",
       "         8.94609032e-02, -4.46060169e-02, -5.09149891e-02,\n",
       "         2.19292751e-02,  3.18282034e-02, -3.15571662e-02,\n",
       "         3.00993355e-03,  2.93877491e-02, -5.38342466e-03,\n",
       "        -9.06781534e-03, -5.01527888e-02,  1.93362086e-02,\n",
       "        -1.25800021e-02,  7.40711982e-02, -1.39148170e-01,\n",
       "         2.77702704e-02, -4.56905692e-02,  7.19751249e-03,\n",
       "        -4.82926801e-02, -3.69782709e-02, -9.82639837e-03,\n",
       "         7.59910504e-03,  4.09624904e-03,  1.68960218e-02,\n",
       "         2.38850397e-04,  3.63949186e-02, -1.41858917e-02,\n",
       "         8.49666416e-03,  3.64524287e-02,  1.46463878e-02,\n",
       "         2.99386217e-02,  3.03277415e-02,  1.49750749e-02,\n",
       "         3.38811132e-02, -1.88542213e-03,  7.46442970e-02,\n",
       "         2.98937959e-02, -4.17699697e-03, -6.10207902e-03,\n",
       "        -3.33129255e-02, -1.73786202e-02,  3.20669470e-02,\n",
       "        -2.84019309e-02,  1.35639453e-03, -1.08049512e-02,\n",
       "         2.25165872e-03, -1.06701938e-01,  1.60887558e-01,\n",
       "         2.74940375e-02, -5.21217020e-02,  5.95150404e-02,\n",
       "        -2.65501172e-02,  5.43095462e-03,  1.05552675e-01,\n",
       "        -3.29156753e-02,  2.12371330e-02, -1.36931730e-02,\n",
       "         1.23558356e-01, -2.46611247e-02,  1.99545012e-02,\n",
       "         4.94070009e-02,  1.88875642e-02,  5.89268979e-02,\n",
       "         3.93231613e-02,  1.27193647e-01, -7.57986045e-02,\n",
       "         1.42003620e-01,  4.30182525e-02, -4.63963471e-02,\n",
       "         7.19080417e-02, -3.71542571e-02, -2.26743674e-02,\n",
       "         6.11341845e-02, -7.02277661e-03,  2.16390169e-02,\n",
       "        -4.39737785e-02,  4.49919977e-02,  7.35384427e-02,\n",
       "        -5.26298827e-02, -6.83348722e-03,  4.39032371e-02,\n",
       "         1.96464243e-02,  6.53079537e-02,  6.38375607e-02],\n",
       "       [ 4.99053856e-01, -1.95943476e-01, -3.27050974e-02,\n",
       "         2.16966142e-01,  7.43232476e-02,  6.06183534e-01,\n",
       "         1.58789598e-01, -1.42682242e-01, -6.06536206e-02,\n",
       "        -4.22747520e-02, -1.40191177e-01,  1.05476796e-02,\n",
       "         3.05901148e-02,  2.77151958e-02, -4.40232579e-02,\n",
       "         6.75322176e-02, -9.84798847e-03,  1.64797414e-02,\n",
       "        -5.00005496e-02, -5.17064321e-03,  1.45716032e-01,\n",
       "        -6.19608235e-02,  1.30010221e-02,  5.94749510e-02,\n",
       "         1.29290769e-02, -1.28242327e-02,  5.41757872e-02,\n",
       "         1.46679178e-02,  5.97156897e-02, -8.52931617e-02,\n",
       "        -4.59134462e-02, -1.66806890e-02, -5.64972624e-02,\n",
       "        -4.50955114e-02,  4.84236592e-02, -6.68536949e-02,\n",
       "         1.01843864e-01,  6.87097470e-02,  1.85960137e-01,\n",
       "        -7.01231149e-03, -4.60316878e-02,  2.61923557e-02,\n",
       "        -1.82740310e-02, -3.54918621e-02,  2.07563960e-03,\n",
       "        -2.77955544e-02, -5.19128805e-02, -2.34036886e-02,\n",
       "        -2.57837197e-02,  4.16606437e-03, -7.63408828e-03,\n",
       "         4.25023790e-03, -1.96992619e-02, -5.80778958e-02,\n",
       "        -3.40932814e-02,  5.49555736e-02, -1.34546963e-02,\n",
       "         1.91743440e-01, -2.16880203e-02, -2.83991531e-02,\n",
       "         3.65664724e-02, -8.16663924e-02, -4.09844892e-02,\n",
       "        -7.12557062e-02,  6.85485474e-02, -5.69464411e-02,\n",
       "        -2.23064393e-03,  9.47857243e-02,  5.22593980e-02,\n",
       "         1.90256994e-01,  1.24962463e-01, -8.72529704e-02,\n",
       "        -5.93589549e-02, -7.18168975e-02, -1.55179186e-01,\n",
       "        -1.87306246e-02,  8.58043594e-02,  5.63774715e-02,\n",
       "        -9.05322236e-02, -7.01372642e-02, -1.00055640e-01,\n",
       "        -1.61179446e-02,  1.72901942e-02, -3.14755548e-02,\n",
       "         1.36571035e-02, -1.21816704e-02,  6.79525920e-02,\n",
       "        -6.74916291e-02,  3.80689035e-02,  8.64921035e-02,\n",
       "         8.33440762e-02,  2.06972391e-01,  6.55119727e-02,\n",
       "        -9.44168315e-03,  1.04601538e-02, -8.21631508e-02,\n",
       "        -2.21941868e-02,  9.75339888e-02, -4.91160412e-02,\n",
       "        -4.21261677e-02, -4.37111248e-02, -1.01674179e-01],\n",
       "       [-1.63862002e-01,  2.76514052e-01, -5.17245228e-02,\n",
       "         3.79775623e-01,  1.18987498e-01,  4.66683922e-01,\n",
       "        -2.03727648e-02,  7.32510138e-02,  6.74729391e-02,\n",
       "         8.81982359e-02,  1.27145256e-01,  5.41908793e-03,\n",
       "         1.04477928e-01,  1.16380880e-01,  4.09584489e-02,\n",
       "        -6.32046428e-02,  9.23161818e-02, -1.56436731e-02,\n",
       "        -6.47583700e-02,  6.30856442e-03, -1.34196755e-01,\n",
       "         1.56230424e-02, -5.44076232e-02, -1.57001158e-02,\n",
       "         7.83499794e-02,  2.84603055e-02, -4.15089529e-02,\n",
       "         5.47574164e-02,  4.51392150e-02,  6.87097813e-02,\n",
       "         7.79355900e-02, -3.02857980e-02, -3.10878952e-02,\n",
       "         1.63774961e-03,  1.46160771e-02, -3.09889631e-02,\n",
       "         3.94259161e-02, -4.86635603e-02,  7.43163640e-03,\n",
       "        -8.27085168e-02, -1.21837983e-02, -9.16153004e-02,\n",
       "        -3.86890908e-03, -1.62874915e-02, -8.39470174e-03,\n",
       "        -1.73028847e-02, -2.07443707e-02, -1.22747777e-03,\n",
       "        -2.67791354e-02,  7.77144238e-03,  8.21840348e-03,\n",
       "        -6.20226055e-03,  9.35215987e-02, -1.68502174e-02,\n",
       "         3.91088008e-02,  5.54642325e-02,  8.69900219e-02,\n",
       "         2.34770366e-02, -1.45318236e-02, -2.16707684e-03,\n",
       "        -4.80622017e-02, -5.95855652e-02,  7.69755788e-02,\n",
       "         4.18977848e-02,  4.43909565e-02, -7.56853211e-02,\n",
       "         4.95434138e-02, -2.42970070e-02,  2.39456040e-02,\n",
       "         1.29649078e-02,  3.48318189e-02,  5.91272491e-02,\n",
       "         8.94902953e-02, -8.43421311e-02, -1.17323251e-01,\n",
       "        -1.48428436e-02, -9.48623935e-02,  1.35132293e-02,\n",
       "        -4.86444101e-02, -1.82303332e-02, -5.61979071e-02,\n",
       "        -5.92995369e-02, -3.12436874e-02, -3.11363123e-02,\n",
       "        -1.07726371e-02,  3.48548583e-02,  2.09361208e-02,\n",
       "         7.64386589e-02,  1.20071700e-01, -8.47755569e-02,\n",
       "        -1.13921431e-01, -9.61117887e-02, -4.27172158e-02,\n",
       "        -2.26622358e-02, -1.49279918e-03, -1.06061472e-01,\n",
       "         3.08685816e-02,  2.84526811e-02,  1.30934720e-02,\n",
       "         4.41331776e-02, -4.99523969e-02, -5.15592617e-02]])"
      ]
     },
     "execution_count": 64,
     "metadata": {},
     "output_type": "execute_result"
    }
   ],
   "source": [
    "loj_model.coef_\n",
    "# her sınıftaki özelliklerin sıra ile katsayısını verir, pozitif olması o özelliğin o sınıfa olan aitliği artırdıgını, negatif olması ise azalttıgını ifade eder"
   ]
  },
  {
   "cell_type": "code",
   "execution_count": 65,
   "id": "76b0f959-33fe-454b-9a9c-1a01d53fa131",
   "metadata": {},
   "outputs": [],
   "source": [
    "y_pred = loj_model.predict(X_test_scaled)"
   ]
  },
  {
   "cell_type": "code",
   "execution_count": 66,
   "id": "cf7f4440-d9a5-41a9-ad11-8d3a5838e34e",
   "metadata": {},
   "outputs": [
    {
     "data": {
      "text/plain": [
       "array([[828,   0,   0,   0,   0,   0,   0],\n",
       "       [  0,  68,   0,   0,   0,   0,   0],\n",
       "       [  0,   0,  52,   0,   0,   0,   0],\n",
       "       [  0,   1,   0,   0,   0,   0,   0],\n",
       "       [  0,   0,   0,   0,  45,   0,   0],\n",
       "       [  0,   0,   0,   0,   1,   1,   0],\n",
       "       [  0,   0,   0,   0,   0,   0,   1]], dtype=int64)"
      ]
     },
     "execution_count": 66,
     "metadata": {},
     "output_type": "execute_result"
    }
   ],
   "source": [
    "confusion_matrix(y_test, y_pred)"
   ]
  },
  {
   "cell_type": "code",
   "execution_count": 67,
   "id": "05de9b8f-3ea9-49b3-a367-fd08df8a776c",
   "metadata": {},
   "outputs": [
    {
     "data": {
      "text/plain": [
       "0.9979939819458375"
      ]
     },
     "execution_count": 67,
     "metadata": {},
     "output_type": "execute_result"
    }
   ],
   "source": [
    "accuracy_score(y_test, y_pred)"
   ]
  },
  {
   "cell_type": "code",
   "execution_count": 68,
   "id": "2af2d0f9-0949-4079-98ae-a4c3109fd9a9",
   "metadata": {
    "scrolled": true
   },
   "outputs": [
    {
     "name": "stdout",
     "output_type": "stream",
     "text": [
      "              precision    recall  f1-score   support\n",
      "\n",
      "           0       1.00      1.00      1.00       828\n",
      "           1       0.99      1.00      0.99        68\n",
      "           2       1.00      1.00      1.00        52\n",
      "           3       0.00      0.00      0.00         1\n",
      "           4       0.98      1.00      0.99        45\n",
      "           5       1.00      0.50      0.67         2\n",
      "           6       1.00      1.00      1.00         1\n",
      "\n",
      "    accuracy                           1.00       997\n",
      "   macro avg       0.85      0.79      0.81       997\n",
      "weighted avg       1.00      1.00      1.00       997\n",
      "\n"
     ]
    },
    {
     "name": "stderr",
     "output_type": "stream",
     "text": [
      "C:\\Users\\acer\\AppData\\Local\\Programs\\Python\\Python312\\Lib\\site-packages\\sklearn\\metrics\\_classification.py:1531: UndefinedMetricWarning: Precision is ill-defined and being set to 0.0 in labels with no predicted samples. Use `zero_division` parameter to control this behavior.\n",
      "  _warn_prf(average, modifier, f\"{metric.capitalize()} is\", len(result))\n",
      "C:\\Users\\acer\\AppData\\Local\\Programs\\Python\\Python312\\Lib\\site-packages\\sklearn\\metrics\\_classification.py:1531: UndefinedMetricWarning: Precision is ill-defined and being set to 0.0 in labels with no predicted samples. Use `zero_division` parameter to control this behavior.\n",
      "  _warn_prf(average, modifier, f\"{metric.capitalize()} is\", len(result))\n",
      "C:\\Users\\acer\\AppData\\Local\\Programs\\Python\\Python312\\Lib\\site-packages\\sklearn\\metrics\\_classification.py:1531: UndefinedMetricWarning: Precision is ill-defined and being set to 0.0 in labels with no predicted samples. Use `zero_division` parameter to control this behavior.\n",
      "  _warn_prf(average, modifier, f\"{metric.capitalize()} is\", len(result))\n"
     ]
    }
   ],
   "source": [
    "print(classification_report(y_test, y_pred))"
   ]
  },
  {
   "cell_type": "code",
   "execution_count": 72,
   "id": "e875aa5b-d2b4-468c-acc2-27fc6685ea28",
   "metadata": {},
   "outputs": [],
   "source": [
    "#loj_model.predict_proba(X_train_scaled)[0:10]"
   ]
  },
  {
   "cell_type": "code",
   "execution_count": 76,
   "id": "15b85f46-fee7-4031-9864-1eb690900ff7",
   "metadata": {},
   "outputs": [
    {
     "data": {
      "text/plain": [
       "\"\\nbinary için\\nlogit_roc_auc = roc_auc_score(y, loj_model.predict(X_train_scaled))\\nfpr, tpr, thresholds = roc_curve(y, loj_model.predict_proba(X_train_scaled)[:,1])\\nplt.figure()\\nplt.plot(fpr, tpr, label='AUC (area = %0.2f)' % logit_roc_auc)\\nplt.plot([0, 1], [0, 1], 'r--')\\nplt.xlim([0.0, 1.0])\\nplt.ylim([0.0, 1.05])\\nplt.xlabel('False Positive Rate')\\nplt.ylabel('True Positive Rate')\\nplt.title('Receiver operating characteristic')\\nplt.legend(loc='lower right')\\nplt.savefig('Log_ROC')\\nplt.show()\\neğri altında kalan alana bakıyoruz\\n\""
      ]
     },
     "execution_count": 76,
     "metadata": {},
     "output_type": "execute_result"
    }
   ],
   "source": [
    "'''\n",
    "binary için\n",
    "logit_roc_auc = roc_auc_score(y, loj_model.predict(X_train_scaled))\n",
    "fpr, tpr, thresholds = roc_curve(y, loj_model.predict_proba(X_train_scaled)[:,1])\n",
    "plt.figure()\n",
    "plt.plot(fpr, tpr, label='AUC (area = %0.2f)' % logit_roc_auc)\n",
    "plt.plot([0, 1], [0, 1], 'r--')\n",
    "plt.xlim([0.0, 1.0])\n",
    "plt.ylim([0.0, 1.05])\n",
    "plt.xlabel('False Positive Rate')\n",
    "plt.ylabel('True Positive Rate')\n",
    "plt.title('Receiver operating characteristic')\n",
    "plt.legend(loc='lower right')\n",
    "plt.savefig('Log_ROC')\n",
    "plt.show()\n",
    "eğri altında kalan alana bakıyoruz\n",
    "'''"
   ]
  },
  {
   "cell_type": "markdown",
   "id": "f36f2529-6d3d-498f-82c9-28897319d01c",
   "metadata": {},
   "source": [
    "### Cross Validation"
   ]
  },
  {
   "cell_type": "code",
   "execution_count": 79,
   "id": "ddde4c8c-4680-47c2-9021-59ae085e7654",
   "metadata": {},
   "outputs": [
    {
     "name": "stderr",
     "output_type": "stream",
     "text": [
      "C:\\Users\\acer\\AppData\\Local\\Programs\\Python\\Python312\\Lib\\site-packages\\sklearn\\model_selection\\_split.py:776: UserWarning: The least populated class in y has only 1 members, which is less than n_splits=10.\n",
      "  warnings.warn(\n"
     ]
    },
    {
     "data": {
      "text/plain": [
       "0.9960000000000001"
      ]
     },
     "execution_count": 79,
     "metadata": {},
     "output_type": "execute_result"
    }
   ],
   "source": [
    "loj_model = LogisticRegression(multi_class='multinomial', solver='lbfgs', max_iter = 1000).fit(X_train_scaled,y_train)\n",
    "\n",
    "cross_val_score(loj_model, X_test_scaled, y_test, cv = 10).mean()"
   ]
  },
  {
   "cell_type": "code",
   "execution_count": null,
   "id": "4b206925-b81d-4fc5-881e-ad7aac8d0c34",
   "metadata": {},
   "outputs": [],
   "source": []
  }
 ],
 "metadata": {
  "kernelspec": {
   "display_name": "Python 3 (ipykernel)",
   "language": "python",
   "name": "python3"
  },
  "language_info": {
   "codemirror_mode": {
    "name": "ipython",
    "version": 3
   },
   "file_extension": ".py",
   "mimetype": "text/x-python",
   "name": "python",
   "nbconvert_exporter": "python",
   "pygments_lexer": "ipython3",
   "version": "3.12.4"
  }
 },
 "nbformat": 4,
 "nbformat_minor": 5
}
